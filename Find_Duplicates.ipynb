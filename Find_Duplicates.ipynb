{
 "cells": [
  {
   "cell_type": "code",
   "execution_count": 14,
   "metadata": {},
   "outputs": [],
   "source": [
    "import pandas as pd"
   ]
  },
  {
   "cell_type": "code",
   "execution_count": 55,
   "metadata": {},
   "outputs": [],
   "source": [
    "def find_duplicates(dataframe, id_dataset, start_date, end_date):\n",
    "    dataframe = dataframe.sort_values(by=[id_dataset, start_date])\n",
    "    dataframe[\"superposition\"] = 0\n",
    "    \n",
    "    for i, val in enumerate(dataframe.iterrows()):\n",
    "        if i!=0:\n",
    "            if dataframe.at[i, id_dataset] == dataframe.at[i-1, id_dataset]:\n",
    "                if dataframe.at[i,start_date]<= dataframe.at[i-1,end_date] :\n",
    "                    dataframe.at[i, \"superperpositon\"] =1\n",
    "                    dataframe.at[i-1, \"superperpositon\"] =1\n",
    "    \n",
    "    result = dataframe.loc[dataframe[\"superperpositon\"]==1]\n",
    "                \n",
    "    return result\n"
   ]
  }
 ],
 "metadata": {
  "kernelspec": {
   "display_name": "Python 3",
   "language": "python",
   "name": "python3"
  },
  "language_info": {
   "codemirror_mode": {
    "name": "ipython",
    "version": 3
   },
   "file_extension": ".py",
   "mimetype": "text/x-python",
   "name": "python",
   "nbconvert_exporter": "python",
   "pygments_lexer": "ipython3",
   "version": "3.7.4"
  }
 },
 "nbformat": 4,
 "nbformat_minor": 4
}
